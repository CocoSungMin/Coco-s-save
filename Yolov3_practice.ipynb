{
  "nbformat": 4,
  "nbformat_minor": 0,
  "metadata": {
    "colab": {
      "name": "Untitled0.ipynb",
      "provenance": [],
      "private_outputs": true,
      "collapsed_sections": [],
      "authorship_tag": "ABX9TyNIDg02JQ868s5wQJSwlKEy",
      "include_colab_link": true
    },
    "kernelspec": {
      "name": "python3",
      "display_name": "Python 3"
    },
    "accelerator": "GPU"
  },
  "cells": [
    {
      "cell_type": "markdown",
      "metadata": {
        "id": "view-in-github",
        "colab_type": "text"
      },
      "source": [
        "<a href=\"https://colab.research.google.com/github/CocoSungMin/Coco-s-save/blob/master/Yolov3_practice.ipynb\" target=\"_parent\"><img src=\"https://colab.research.google.com/assets/colab-badge.svg\" alt=\"Open In Colab\"/></a>"
      ]
    },
    {
      "cell_type": "code",
      "metadata": {
        "id": "yHfXIFElDvVX",
        "colab_type": "code",
        "colab": {}
      },
      "source": [
        "import time\n",
        "import glob\n",
        "import torch\n",
        "import os\n",
        "\n",
        "from IPython.display import Image, clear_output \n",
        "print('PyTorch %s %s' % (torch.__version__, torch.cuda.get_device_properties(0) if torch.cuda.is_available() else 'CPU'))"
      ],
      "execution_count": null,
      "outputs": []
    },
    {
      "cell_type": "code",
      "metadata": {
        "id": "a6JoJTo8DzHs",
        "colab_type": "code",
        "colab": {}
      },
      "source": [
        "!git clone https://github.com/ultralytics/yolov3  # clone\n"
      ],
      "execution_count": null,
      "outputs": []
    },
    {
      "cell_type": "code",
      "metadata": {
        "id": "8xQ1zp-rD7ZX",
        "colab_type": "code",
        "colab": {}
      },
      "source": [
        "! cd yolov3\n"
      ],
      "execution_count": null,
      "outputs": []
    },
    {
      "cell_type": "code",
      "metadata": {
        "id": "RN42UVzEJfgK",
        "colab_type": "code",
        "colab": {}
      },
      "source": [
        "!python3 /content/yolov3/train.py --cfg /content/yolov3/cfg/yolov3-tiny.cfg --data /content/yolov3/data/id.data --nosave"
      ],
      "execution_count": null,
      "outputs": []
    }
  ]
}